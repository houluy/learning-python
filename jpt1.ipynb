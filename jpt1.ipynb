{
 "cells": [
  {
   "cell_type": "markdown",
   "metadata": {},
   "source": [
    "## Data type\n",
    "### List"
   ]
  },
  {
   "cell_type": "code",
   "execution_count": 41,
   "metadata": {},
   "outputs": [
    {
     "name": "stdout",
     "output_type": "stream",
     "text": [
      "[0, 1, 2]\n",
      "['d', [0, 1, 2], 4]\n"
     ]
    }
   ],
   "source": [
    "a = [0, 1, 2]\n",
    "b = ['d', a, 4]\n",
    "print(a)\n",
    "print(b)"
   ]
  },
  {
   "cell_type": "markdown",
   "metadata": {},
   "source": [
    "#### List slice"
   ]
  },
  {
   "cell_type": "code",
   "execution_count": 51,
   "metadata": {},
   "outputs": [
    {
     "name": "stdout",
     "output_type": "stream",
     "text": [
      "[0, 1, 2, 3, 4, 5, 6, 7, 8, 9]\n",
      "[1, 2, 3, 4, 5, 6, 7, 8, 9]\n",
      "[2, 3, 4, 5, 6, 7, 8, 9]\n",
      "9\n",
      "[5, 6, 7, 8]\n",
      "[9, 8, 7, 6, 5, 4, 3, 2, 1, 0]\n",
      "[100, 1, 2, 3, 4, 5, 6, 7, 8, 9]\n",
      "[100, 1, 2, 3, 4, 5, 6, 7, 8, 9]\n"
     ]
    }
   ],
   "source": [
    "a = list(range(10))\n",
    "print(a)\n",
    "print(a[1::1])\n",
    "\n",
    "print(a[2:])\n",
    "\n",
    "print(a[-1])\n",
    "print(a[-5:-1:])\n",
    "\n",
    "# How to reverse?\n",
    "print(a[::-1])\n",
    "# Deepcopy\n",
    "\n",
    "b = a\n",
    "a[0] = 100\n",
    "print(b)\n",
    "\n",
    "c = a[:]\n",
    "a[0] = -1\n",
    "print(c)"
   ]
  },
  {
   "cell_type": "code",
   "execution_count": 46,
   "metadata": {},
   "outputs": [
    {
     "name": "stdout",
     "output_type": "stream",
     "text": [
      "[1, 3, 3]\n"
     ]
    },
    {
     "ename": "TypeError",
     "evalue": "'tuple' object does not support item assignment",
     "output_type": "error",
     "traceback": [
      "\u001b[0;31m---------------------------------------------------------------------------\u001b[0m",
      "\u001b[0;31mTypeError\u001b[0m                                 Traceback (most recent call last)",
      "\u001b[0;32m<ipython-input-46-304ddc19e54b>\u001b[0m in \u001b[0;36m<module>\u001b[0;34m()\u001b[0m\n\u001b[1;32m      7\u001b[0m \u001b[0;34m\u001b[0m\u001b[0m\n\u001b[1;32m      8\u001b[0m \u001b[0mc\u001b[0m \u001b[0;34m=\u001b[0m \u001b[0;34m(\u001b[0m\u001b[0;36m3\u001b[0m\u001b[0;34m,\u001b[0m \u001b[0;36m3\u001b[0m\u001b[0;34m,\u001b[0m \u001b[0;36m3\u001b[0m\u001b[0;34m)\u001b[0m\u001b[0;34m\u001b[0m\u001b[0m\n\u001b[0;32m----> 9\u001b[0;31m \u001b[0mfunc_params\u001b[0m\u001b[0;34m(\u001b[0m\u001b[0mc\u001b[0m\u001b[0;34m)\u001b[0m\u001b[0;34m\u001b[0m\u001b[0m\n\u001b[0m\u001b[1;32m     10\u001b[0m \u001b[0mprint\u001b[0m\u001b[0;34m(\u001b[0m\u001b[0mc\u001b[0m\u001b[0;34m)\u001b[0m\u001b[0;34m\u001b[0m\u001b[0m\n",
      "\u001b[0;32m<ipython-input-46-304ddc19e54b>\u001b[0m in \u001b[0;36mfunc_params\u001b[0;34m(a)\u001b[0m\n\u001b[1;32m      1\u001b[0m \u001b[0;32mdef\u001b[0m \u001b[0mfunc_params\u001b[0m\u001b[0;34m(\u001b[0m\u001b[0ma\u001b[0m\u001b[0;34m)\u001b[0m\u001b[0;34m:\u001b[0m\u001b[0;34m\u001b[0m\u001b[0m\n\u001b[0;32m----> 2\u001b[0;31m     \u001b[0ma\u001b[0m\u001b[0;34m[\u001b[0m\u001b[0;36m0\u001b[0m\u001b[0;34m]\u001b[0m \u001b[0;34m=\u001b[0m \u001b[0;36m1\u001b[0m\u001b[0;34m\u001b[0m\u001b[0m\n\u001b[0m\u001b[1;32m      3\u001b[0m \u001b[0;34m\u001b[0m\u001b[0m\n\u001b[1;32m      4\u001b[0m \u001b[0mb\u001b[0m \u001b[0;34m=\u001b[0m \u001b[0;34m[\u001b[0m\u001b[0;36m3\u001b[0m\u001b[0;34m,\u001b[0m \u001b[0;36m3\u001b[0m\u001b[0;34m,\u001b[0m \u001b[0;36m3\u001b[0m\u001b[0;34m]\u001b[0m\u001b[0;34m\u001b[0m\u001b[0m\n\u001b[1;32m      5\u001b[0m \u001b[0mfunc_params\u001b[0m\u001b[0;34m(\u001b[0m\u001b[0mb\u001b[0m\u001b[0;34m)\u001b[0m\u001b[0;34m\u001b[0m\u001b[0m\n",
      "\u001b[0;31mTypeError\u001b[0m: 'tuple' object does not support item assignment"
     ]
    }
   ],
   "source": [
    "def func_params(a):\n",
    "    a[0] = 1\n",
    "    \n",
    "b = [3, 3, 3]\n",
    "func_params(b)\n",
    "print(b)\n",
    "\n",
    "c = (3, 3, 3)\n",
    "func_params(c)\n",
    "print(c)"
   ]
  },
  {
   "cell_type": "markdown",
   "metadata": {},
   "source": [
    "### Tuple"
   ]
  },
  {
   "cell_type": "code",
   "execution_count": 43,
   "metadata": {
    "scrolled": false
   },
   "outputs": [
    {
     "ename": "TypeError",
     "evalue": "'tuple' object does not support item assignment",
     "output_type": "error",
     "traceback": [
      "\u001b[0;31m---------------------------------------------------------------------------\u001b[0m",
      "\u001b[0;31mTypeError\u001b[0m                                 Traceback (most recent call last)",
      "\u001b[0;32m<ipython-input-43-33073083a0e9>\u001b[0m in \u001b[0;36m<module>\u001b[0;34m()\u001b[0m\n\u001b[1;32m      1\u001b[0m \u001b[0ma\u001b[0m \u001b[0;34m=\u001b[0m \u001b[0;34m(\u001b[0m\u001b[0;36m1\u001b[0m\u001b[0;34m,\u001b[0m \u001b[0;36m2\u001b[0m\u001b[0;34m,\u001b[0m \u001b[0;36m3\u001b[0m\u001b[0;34m)\u001b[0m\u001b[0;34m\u001b[0m\u001b[0m\n\u001b[0;32m----> 2\u001b[0;31m \u001b[0ma\u001b[0m\u001b[0;34m[\u001b[0m\u001b[0;36m0\u001b[0m\u001b[0;34m]\u001b[0m \u001b[0;34m=\u001b[0m \u001b[0;36m2\u001b[0m\u001b[0;34m\u001b[0m\u001b[0m\n\u001b[0m\u001b[1;32m      3\u001b[0m \u001b[0mprint\u001b[0m\u001b[0;34m(\u001b[0m\u001b[0ma\u001b[0m\u001b[0;34m)\u001b[0m\u001b[0;34m\u001b[0m\u001b[0m\n",
      "\u001b[0;31mTypeError\u001b[0m: 'tuple' object does not support item assignment"
     ]
    }
   ],
   "source": [
    "a = (1, 2, 3)\n",
    "a[0] = 2\n",
    "print(a)"
   ]
  },
  {
   "cell_type": "markdown",
   "metadata": {},
   "source": [
    "### Dict"
   ]
  },
  {
   "cell_type": "code",
   "execution_count": 44,
   "metadata": {},
   "outputs": [
    {
     "name": "stdout",
     "output_type": "stream",
     "text": [
      "{'c': 1, 'd': 2, 'e': 'be pythonic'}\n"
     ]
    }
   ],
   "source": [
    "a = {\n",
    "    'c': 1,\n",
    "    'd': 2,\n",
    "    'e': 'be pythonic',\n",
    "}\n",
    "\n",
    "print(a)"
   ]
  },
  {
   "cell_type": "markdown",
   "metadata": {},
   "source": [
    "#### for... in 'iterable'"
   ]
  },
  {
   "cell_type": "code",
   "execution_count": 45,
   "metadata": {
    "scrolled": true
   },
   "outputs": [
    {
     "name": "stdout",
     "output_type": "stream",
     "text": [
      "0\n",
      "1\n",
      "2\n",
      "3\n",
      "4\n",
      "5\n",
      "6\n",
      "7\n",
      "8\n",
      "9\n",
      "0:0\n",
      "1:1\n",
      "2:2\n",
      "3:3\n",
      "4:4\n",
      "5:5\n",
      "6:6\n",
      "7:7\n",
      "8:8\n",
      "9:9\n"
     ]
    }
   ],
   "source": [
    "a = list(range(10))\n",
    "for i in a:\n",
    "    print(i)\n",
    "    \n",
    "for ind, val in enumerate(a):\n",
    "    print(ind, end=':')\n",
    "    print(val)"
   ]
  },
  {
   "cell_type": "code",
   "execution_count": 39,
   "metadata": {},
   "outputs": [
    {
     "name": "stdout",
     "output_type": "stream",
     "text": [
      ".ipynb_checkpoints\n"
     ]
    }
   ],
   "source": [
    "import os\n",
    "# 文件夹路径，例如21\n",
    "root_dir = './'\n",
    "dir_list = os.listdir(root_dir)\n",
    "list_of_names = []\n",
    "\n",
    "for i in range(len(dir_list)):\n",
    "    path_tmp = os.path.join(root_dir, dir_list[i])\n",
    "    if os.path.isdir(path_tmp):\n",
    "        print(dir_list[i])\n",
    "        list_of_names.append(dir_list[i]+'\\n')\n",
    "\n",
    "txt_file = open(root_dir + r'\\test.txt', 'w')\n",
    "txt_file.writelines(list_of_names)\n",
    "txt_file.close()"
   ]
  },
  {
   "cell_type": "code",
   "execution_count": 40,
   "metadata": {},
   "outputs": [
    {
     "name": "stdout",
     "output_type": "stream",
     "text": [
      ".ipynb_checkpoints\n"
     ]
    }
   ],
   "source": [
    "import os\n",
    "\n",
    "root_dir = './'\n",
    "dir_list = os.listdir(root_dir)\n",
    "\n",
    "list_of_names = '\\n'.join([dir_name for dir_name in dir_list if os.path.isdir(os.path.join(root_dir, dir_name))])\n",
    "print(list_of_names)\n",
    "\n",
    "with open(os.path.join(root_dir, 'test.txt'), 'a') as f:\n",
    "    f.writelines(list_of_names)"
   ]
  },
  {
   "cell_type": "markdown",
   "metadata": {},
   "source": [
    "#### Function parameters"
   ]
  },
  {
   "cell_type": "code",
   "execution_count": 52,
   "metadata": {
    "scrolled": true
   },
   "outputs": [
    {
     "name": "stdout",
     "output_type": "stream",
     "text": [
      "3\n",
      "4\n",
      "4\n",
      "6\n",
      "4\n",
      "(1, 2, 3, 4, 5){'d': 1, 'e': 2, 'f': 3}\n",
      "(0, 1, 2, 3, 4){'a': 1, 'b': 2}\n"
     ]
    }
   ],
   "source": [
    "def func1(a, b):\n",
    "    print(a + b)\n",
    "    \n",
    "func1(1, 2)\n",
    "c = (1, 2)#??\n",
    "\n",
    "#Default parameter\n",
    "def func2(a, b, c=1):\n",
    "    print(a + b + c)\n",
    "    \n",
    "func2(a=1, b=2)\n",
    "\n",
    "func2(b=2, a=1)\n",
    "\n",
    "func2(*c, c=3)\n",
    "\n",
    "params = {\n",
    "    'a': 1,\n",
    "    'b': 2,\n",
    "}\n",
    "func2(**params)\n",
    "\n",
    "#Variable-length parameters\n",
    "def func3(*args, **kwargs):\n",
    "    print(args, end='')\n",
    "    print(kwargs)\n",
    "    \n",
    "func3(1, 2, 3, 4, 5, d=1,e=2,f=3)\n",
    "t = list(range(5))\n",
    "func3(*t, **params)"
   ]
  },
  {
   "cell_type": "markdown",
   "metadata": {},
   "source": [
    "#### else"
   ]
  },
  {
   "cell_type": "code",
   "execution_count": 113,
   "metadata": {},
   "outputs": [
    {
     "name": "stdout",
     "output_type": "stream",
     "text": [
      "Prime number: 2\n",
      "Prime number: 3\n",
      "Prime number: 5\n",
      "Prime number: 7\n",
      "Prime number: 11\n",
      "Prime number: 13\n",
      "Prime number: 17\n",
      "Prime number: 19\n"
     ]
    }
   ],
   "source": [
    "#if elif else\n",
    "#You all know it\n",
    "\n",
    "#for/while else\n",
    "\n",
    "#find prime number\n",
    "for i in range(2, 20):\n",
    "    found = True\n",
    "    for j in range(2, i):\n",
    "        if i % j == 0:\n",
    "            found = False\n",
    "            break\n",
    "    if found:\n",
    "        print(\"Prime number: {}\".format(i))"
   ]
  },
  {
   "cell_type": "code",
   "execution_count": 114,
   "metadata": {},
   "outputs": [
    {
     "name": "stdout",
     "output_type": "stream",
     "text": [
      "Prime number: 2\n",
      "Prime number: 3\n",
      "Prime number: 5\n",
      "Prime number: 7\n",
      "Prime number: 11\n",
      "Prime number: 13\n",
      "Prime number: 17\n",
      "Prime number: 19\n"
     ]
    }
   ],
   "source": [
    "#find prime number\n",
    "for i in range(2, 20):\n",
    "    for j in range(2, i):\n",
    "        if i % j == 0:\n",
    "            break\n",
    "    else:\n",
    "        print(\"Prime number: {}\".format(i))"
   ]
  },
  {
   "cell_type": "code",
   "execution_count": 132,
   "metadata": {},
   "outputs": [
    {
     "name": "stdout",
     "output_type": "stream",
     "text": [
      "['Lorem', 'ipsum', 'dolor', 'sit', 'amet,', 'consectetur', 'adipiscing', 'elit,', 'sed', 'do', 'eiusmod', 'tempor', 'incididunt', 'ut', 'labore', 'et', 'dolore', 'magna', 'aliqua', 'Incididunt', 'ut', 'labore', 'et', 'dolore', 'Consectetur', 'adipiscing', 'elit,', 'sed', 'do', 'eiusmod', 'tempor', 'incididunt', 'ut', 'labore', 'et', 'dolore', 'magna', 'aliqua']\n"
     ]
    }
   ],
   "source": [
    "#try...except...else...finally\n",
    "try:\n",
    "    f = open('file.txt', 'r')\n",
    "except FileNotFoundError as e:\n",
    "    print(e)\n",
    "else:\n",
    "    print([words for lines in f for words in lines.split()])\n",
    "finally:\n",
    "    f.close()#Error may occurred"
   ]
  },
  {
   "cell_type": "markdown",
   "metadata": {},
   "source": [
    "### Comprehensions"
   ]
  },
  {
   "cell_type": "code",
   "execution_count": 145,
   "metadata": {},
   "outputs": [
    {
     "name": "stdout",
     "output_type": "stream",
     "text": [
      "[0, 1, 4, 9, 16, 36, 49, 64, 81]\n",
      "{'l': 4, 'e': 4, 't': 4, \"'\": 4, 's': 4}\n",
      "[2, 3, 5, 7, 11, 13, 17, 19]\n",
      "[2, 3, 5, 7, 11, 13, 17, 19]\n",
      "[('f', 0), ('o', 0), ('o', 0), ('b', 0), ('a', 0), ('r', 0), ('b', 1), ('a', 1), ('z', 1), ('t', 1), ('a', 1), ('z', 1), ('k', 2), ('o', 2), ('k', 2), ('o', 2)]\n"
     ]
    }
   ],
   "source": [
    "a = [ x**2 for x in range(10) if x != 5 ]\n",
    "print(a)\n",
    "\n",
    "dic = {key:value for value in range(5) for key in \"let's\"}\n",
    "print(dic)\n",
    "\n",
    "#find prime number by list comprehensions\n",
    "prime = [x for x in range(2, 20) if all(x % y != 0 for y in range(2, x))]\n",
    "print(prime)\n",
    "\n",
    "#find prime number by filter\n",
    "prime = filter(lambda x: all(x % y != 0 for y in range(2, x)), range(2, 20))\n",
    "print(list(prime))\n",
    "\n",
    "#\n",
    "strings = [ ['foo', 'bar'], ['baz', 'taz'], ['w', 'koko'] ]\n",
    "res = [(letter, idx) for idx, lst in enumerate(strings) for word in lst if len(word) > 2 for letter in word]\n",
    "print(res)"
   ]
  },
  {
   "cell_type": "markdown",
   "metadata": {},
   "source": [
    "### Decorator"
   ]
  },
  {
   "cell_type": "code",
   "execution_count": 164,
   "metadata": {},
   "outputs": [
    {
     "name": "stdout",
     "output_type": "stream",
     "text": [
      "168\n",
      "Time consumed: 0.00882720947265625\n"
     ]
    }
   ],
   "source": [
    "#print execution time for each function\n",
    "def func_time(func, *args, **kwargs):\n",
    "    start_time = time.time()\n",
    "    res = func(*args, **kwargs)\n",
    "    end_time = time.time()\n",
    "    print('Time consumed: {}'.format(end_time - start_time))\n",
    "    return res\n",
    "\n",
    "def count_prime(n):\n",
    "    prime = [x for x in range(2, n) if all(x % y != 0 for y in range(2, x))]\n",
    "    print(len(prime))\n",
    "\n",
    "n = 1000\n",
    "func_time(count_prime, n)"
   ]
  },
  {
   "cell_type": "code",
   "execution_count": 165,
   "metadata": {},
   "outputs": [
    {
     "name": "stdout",
     "output_type": "stream",
     "text": [
      "1229\n",
      "Time consumed: 0.6328973770141602\n"
     ]
    }
   ],
   "source": [
    "#Elegant way\n",
    "def func_time(func):\n",
    "    def __wrapper(*args, **kwargs):\n",
    "        start_time = time.time()\n",
    "        res = func(*args, **kwargs)\n",
    "        end_time = time.time()\n",
    "        print('Time consumed: {}'.format(end_time - start_time))\n",
    "        return res\n",
    "    return __wrapper\n",
    "\n",
    "def count_prime(n):\n",
    "    prime = [x for x in range(2, n) if all(x % y != 0 for y in range(2, x))]\n",
    "    print(len(prime))\n",
    "    \n",
    "count_prime = func_time(count_prime)\n",
    "\n",
    "n = 10000\n",
    "count_prime(n)\n"
   ]
  },
  {
   "cell_type": "code",
   "execution_count": 181,
   "metadata": {},
   "outputs": [
    {
     "name": "stdout",
     "output_type": "stream",
     "text": [
      "Execute function: count_prime\n",
      "1229\n",
      "Time consumed: 0.6678051948547363\n"
     ]
    }
   ],
   "source": [
    "#Pythonic way\n",
    "import time\n",
    "def func_time(func):\n",
    "    def wrapper(*args, **kwargs):\n",
    "        start_time = time.time()\n",
    "        res = func(*args, **kwargs)\n",
    "        end_time = time.time()\n",
    "        print('Time consumed: {}'.format(end_time - start_time))\n",
    "        return res\n",
    "    return wrapper\n",
    "\n",
    "def func_log(func):\n",
    "    def wrapper(*args, **kwargs):\n",
    "        print('Execute function: {}'.format(func.__name__))\n",
    "        return func(*args, **kwargs)\n",
    "    return wrapper\n",
    "\n",
    "@func_time\n",
    "@func_log\n",
    "def count_prime(n):\n",
    "    prime = [x for x in range(2, n) if all(x % y != 0 for y in range(2, x))]\n",
    "    print(len(prime))\n",
    "\n",
    "count_prime(10000)\n"
   ]
  },
  {
   "cell_type": "code",
   "execution_count": 53,
   "metadata": {},
   "outputs": [
    {
     "name": "stdout",
     "output_type": "stream",
     "text": [
      "Result exceeds the threshold 100\n"
     ]
    }
   ],
   "source": [
    "#Decorator with parameters\n",
    "#Validation function\n",
    "def validator(threshold):\n",
    "    def decorator(func):\n",
    "        def wrapper(*args, **kwargs):\n",
    "            res = func(*args, **kwargs)\n",
    "            if res > threshold:\n",
    "                raise ValueError('Result exceeds the threshold {}'.format(threshold))\n",
    "            return res\n",
    "        return wrapper\n",
    "    return decorator\n",
    "\n",
    "@validator(threshold=100)\n",
    "def gen(num=101):\n",
    "    return num\n",
    "\n",
    "try:\n",
    "    gen()\n",
    "except ValueError as e:\n",
    "    print(e)"
   ]
  },
  {
   "cell_type": "code",
   "execution_count": 55,
   "metadata": {},
   "outputs": [
    {
     "name": "stdout",
     "output_type": "stream",
     "text": [
      "retrying...\n",
      "retrying...\n",
      "retrying...\n",
      "retrying...\n",
      "retrying...\n"
     ]
    },
    {
     "ename": "MaxRetryError",
     "evalue": "Maximum retry time runs up: 5",
     "output_type": "error",
     "traceback": [
      "\u001b[0;31m---------------------------------------------------------------------------\u001b[0m",
      "\u001b[0;31mMaxRetryError\u001b[0m                             Traceback (most recent call last)",
      "\u001b[0;32m<ipython-input-55-297b85b0db4d>\u001b[0m in \u001b[0;36m<module>\u001b[0;34m()\u001b[0m\n\u001b[1;32m     45\u001b[0m         \u001b[0;32mreturn\u001b[0m \u001b[0ms\u001b[0m\u001b[0;34m\u001b[0m\u001b[0m\n\u001b[1;32m     46\u001b[0m \u001b[0;34m\u001b[0m\u001b[0m\n\u001b[0;32m---> 47\u001b[0;31m \u001b[0mprint\u001b[0m\u001b[0;34m(\u001b[0m\u001b[0mget_sth\u001b[0m\u001b[0;34m(\u001b[0m\u001b[0;34m)\u001b[0m\u001b[0;34m)\u001b[0m\u001b[0;34m\u001b[0m\u001b[0m\n\u001b[0m",
      "\u001b[0;32m<ipython-input-55-297b85b0db4d>\u001b[0m in \u001b[0;36mwrapper\u001b[0;34m(*args, **kwargs)\u001b[0m\n\u001b[1;32m     14\u001b[0m                     \u001b[0;32mcontinue\u001b[0m\u001b[0;34m\u001b[0m\u001b[0m\n\u001b[1;32m     15\u001b[0m             \u001b[0;32melse\u001b[0m\u001b[0;34m:\u001b[0m\u001b[0;34m\u001b[0m\u001b[0m\n\u001b[0;32m---> 16\u001b[0;31m                 \u001b[0;32mraise\u001b[0m \u001b[0mMaxRetryError\u001b[0m\u001b[0;34m(\u001b[0m\u001b[0;34m'Maximum retry time runs up: {}'\u001b[0m\u001b[0;34m.\u001b[0m\u001b[0mformat\u001b[0m\u001b[0;34m(\u001b[0m\u001b[0mtimes\u001b[0m\u001b[0;34m)\u001b[0m\u001b[0;34m)\u001b[0m\u001b[0;34m\u001b[0m\u001b[0m\n\u001b[0m\u001b[1;32m     17\u001b[0m             \u001b[0;32mreturn\u001b[0m \u001b[0mres\u001b[0m\u001b[0;34m\u001b[0m\u001b[0m\n\u001b[1;32m     18\u001b[0m         \u001b[0;32mreturn\u001b[0m \u001b[0mwrapper\u001b[0m\u001b[0;34m\u001b[0m\u001b[0m\n",
      "\u001b[0;31mMaxRetryError\u001b[0m: Maximum retry time runs up: 5"
     ]
    }
   ],
   "source": [
    "class MaxRetryError(Exception):\n",
    "    pass\n",
    "#Another example\n",
    "#Retry\n",
    "def retry(times=5):\n",
    "    def decorator(func):\n",
    "        def wrapper(*args, **kwargs):\n",
    "            for i in range(times):\n",
    "                res = func(*args, **kwargs)\n",
    "                if (res.status_code == 200):\n",
    "                    break\n",
    "                else:\n",
    "                    print('retrying...')\n",
    "                    continue\n",
    "            else:\n",
    "                raise MaxRetryError('Maximum retry time runs up: {}'.format(times))\n",
    "            return res\n",
    "        return wrapper\n",
    "    return decorator\n",
    "\n",
    "\n",
    "#Track number of times a function is called\n",
    "def calls(func):\n",
    "    def wrapper(*args, **kwargs):\n",
    "        wrapper.calls += 1\n",
    "        kwargs['calls'] = wrapper.calls\n",
    "        return func(*args, **kwargs)\n",
    "    wrapper.calls = 0\n",
    "    return wrapper\n",
    "\n",
    "class some_class():\n",
    "    def __init__(self):\n",
    "        self.status_code = 0\n",
    "    def __str__(self):\n",
    "        return 'some class'\n",
    "\n",
    "@retry()\n",
    "@calls\n",
    "def get_sth(max_retry=6, **kwargs):\n",
    "    s = some_class()\n",
    "    if kwargs['calls'] < max_retry:\n",
    "        return s\n",
    "    elif kwargs['calls'] == max_retry:\n",
    "        s.status_code = 200\n",
    "        return s\n",
    "    \n",
    "print(get_sth())"
   ]
  },
  {
   "cell_type": "code",
   "execution_count": null,
   "metadata": {
    "collapsed": true
   },
   "outputs": [],
   "source": [
    "@app.route('/', method=['GET', 'POST'])\n",
    "def handle_index():\n",
    "    return static_file('index.html')"
   ]
  },
  {
   "cell_type": "markdown",
   "metadata": {},
   "source": [
    "### Class"
   ]
  },
  {
   "cell_type": "code",
   "execution_count": 182,
   "metadata": {
    "scrolled": true
   },
   "outputs": [
    {
     "name": "stdout",
     "output_type": "stream",
     "text": [
      "...initializing\n"
     ]
    }
   ],
   "source": [
    "class Demo(Parent):\n",
    "    d = 2\n",
    "    __slots__ = ['a', 'b']\n",
    "    def __init__(self):\n",
    "        '''\n",
    "        Initialization method\n",
    "        '''\n",
    "        print('...initializing, not constructor')\n",
    "        self.a = 1\n",
    "        \n",
    "    def _private_method(self):\n",
    "        pass\n",
    "    \n",
    "    def normal(self, p1):\n",
    "        self.p1 = p1 # Stupid\n",
    "    \n",
    "demo = Demo()\n"
   ]
  },
  {
   "cell_type": "markdown",
   "metadata": {},
   "source": [
    "#### Singleton"
   ]
  },
  {
   "cell_type": "code",
   "execution_count": null,
   "metadata": {
    "collapsed": true
   },
   "outputs": [],
   "source": [
    "class Singleton(): \n",
    "    def __new__(cls, *args, **kwargs):\n",
    "        if not hasattr(cls, 'instance'):\n",
    "            cls.instance = super(Singleton, cls).__new__(cls, *args, **kwargs)\n",
    "        return cls.instance\n"
   ]
  },
  {
   "cell_type": "markdown",
   "metadata": {},
   "source": [
    "#### class method & static method"
   ]
  },
  {
   "cell_type": "code",
   "execution_count": 186,
   "metadata": {
    "collapsed": true
   },
   "outputs": [],
   "source": [
    "class Person():\n",
    "    def __init__(self, a):\n",
    "        self.a = a\n",
    "    \n",
    "    @classmethod\n",
    "    def fac(cls):\n",
    "        pass\n",
    "    \n",
    "    @staticmethod\n",
    "    def count():\n",
    "        pass"
   ]
  },
  {
   "cell_type": "markdown",
   "metadata": {},
   "source": [
    "#### Property"
   ]
  },
  {
   "cell_type": "code",
   "execution_count": 193,
   "metadata": {},
   "outputs": [
    {
     "name": "stdout",
     "output_type": "stream",
     "text": [
      "50\n"
     ]
    }
   ],
   "source": [
    "class Person():\n",
    "    def __init__(self, age):\n",
    "        self._age = age\n",
    "        \n",
    "    def set_age(self, age):\n",
    "        assert isinstance(age, int)\n",
    "        if age <= 0 or age >= 200:\n",
    "            raise ValueError('Age exceeds range')\n",
    "        else:\n",
    "            self._age = age\n",
    "        \n",
    "    def get_age(self):\n",
    "        return self._age\n",
    "    \n",
    "p = Person(10)\n",
    "p.set_age(50)\n",
    "print(p.get_age())\n"
   ]
  },
  {
   "cell_type": "code",
   "execution_count": 195,
   "metadata": {},
   "outputs": [
    {
     "name": "stdout",
     "output_type": "stream",
     "text": [
      "10\n",
      "50\n"
     ]
    }
   ],
   "source": [
    "#Use property decorator\n",
    "class Person():\n",
    "    def __init__(self, age):\n",
    "        self._age = age\n",
    "        \n",
    "    @property\n",
    "    def age(self):\n",
    "        return self._age\n",
    "    \n",
    "    @age.setter\n",
    "    def age(self, value):\n",
    "        assert isinstance(value, int)\n",
    "        if value <= 0 or value >= 200:\n",
    "            raise ValueError('Age exceeds range')\n",
    "        else:\n",
    "            self._age = value\n",
    "            \n",
    "p = Person(10)\n",
    "print(p.age)\n",
    "p.age = 50\n",
    "print(p.age)"
   ]
  },
  {
   "cell_type": "markdown",
   "metadata": {},
   "source": [
    "### Context manager"
   ]
  },
  {
   "cell_type": "code",
   "execution_count": 36,
   "metadata": {
    "collapsed": true
   },
   "outputs": [],
   "source": [
    "# Basic flow\n",
    "try:\n",
    "    f = open('file.txt', 'a')\n",
    "except Exception as e:\n",
    "    print(e)\n",
    "else:\n",
    "    pass #do your work\n",
    "finally:\n",
    "    f.close()\n",
    "    \n",
    "# with statement\n",
    "with open('file.txt', 'a') as f:\n",
    "    pass # do your work\n"
   ]
  },
  {
   "cell_type": "code",
   "execution_count": 196,
   "metadata": {
    "collapsed": true
   },
   "outputs": [],
   "source": [
    "#Thread lock\n",
    "import threading\n",
    "\n",
    "lock = threading.Lock()\n",
    "\n",
    "def do_sth_dangerous():\n",
    "    lock.acquire()\n",
    "    raise Exception('Some error')\n",
    "    lock.release()\n",
    "    \n",
    "#with\n",
    "def do_sth_dangerous():\n",
    "    with lock:\n",
    "        raise Exception('Some error')\n",
    "        "
   ]
  },
  {
   "cell_type": "code",
   "execution_count": 202,
   "metadata": {},
   "outputs": [
    {
     "name": "stdout",
     "output_type": "stream",
     "text": [
      "168\n",
      "None\n",
      "Execution time: 0.008848428726196289\n"
     ]
    }
   ],
   "source": [
    "#Your own context manager\n",
    "#Count execution time and track the function\n",
    "\n",
    "import time\n",
    "\n",
    "class ContextTime():\n",
    "    def __init__(self):\n",
    "        pass\n",
    "    \n",
    "    def __enter__(self):\n",
    "        self.start_time = time.time()\n",
    "    \n",
    "    def __exit__(self, type, value, traceback):\n",
    "        self.end_time = time.time()\n",
    "        print('Execution time: {}'.format(self.end_time - self.start_time))\n",
    "\n",
    "def count_prime(n):\n",
    "    prime = [x for x in range(2, n) if all(x % y != 0 for y in range(2, x))]\n",
    "    print(len(prime))\n",
    "        \n",
    "with ContextTime():\n",
    "    count_prime(1000)"
   ]
  },
  {
   "cell_type": "code",
   "execution_count": 203,
   "metadata": {},
   "outputs": [
    {
     "name": "stdout",
     "output_type": "stream",
     "text": [
      "168\n",
      "Execution time: 0.011831283569335938\n"
     ]
    }
   ],
   "source": [
    "#contextlib\n",
    "import contextlib\n",
    "\n",
    "@contextlib.contextmanager\n",
    "def context_time():\n",
    "    start_time = time.time()\n",
    "    yield\n",
    "    end_time = time.time()\n",
    "    print('Execution time: {}'.format(end_time - start_time))\n",
    "\n",
    "with context_time():\n",
    "    count_prime(1000)"
   ]
  },
  {
   "cell_type": "code",
   "execution_count": 49,
   "metadata": {
    "collapsed": true
   },
   "outputs": [],
   "source": [
    "#Redis\n",
    "import redis\n",
    "\n",
    "#low-level connection\n",
    "connection = redis.Connection(host='localhost', port=6379, db=0)\n",
    "connection.disconnect()\n"
   ]
  },
  {
   "cell_type": "code",
   "execution_count": 50,
   "metadata": {},
   "outputs": [
    {
     "ename": "AttributeError",
     "evalue": "__enter__",
     "output_type": "error",
     "traceback": [
      "\u001b[0;31m---------------------------------------------------------------------------\u001b[0m",
      "\u001b[0;31mAttributeError\u001b[0m                            Traceback (most recent call last)",
      "\u001b[0;32m<ipython-input-50-6920741705fa>\u001b[0m in \u001b[0;36m<module>\u001b[0;34m()\u001b[0m\n\u001b[0;32m----> 1\u001b[0;31m \u001b[0;32mwith\u001b[0m \u001b[0mredis\u001b[0m\u001b[0;34m.\u001b[0m\u001b[0mConnection\u001b[0m\u001b[0;34m(\u001b[0m\u001b[0mhost\u001b[0m\u001b[0;34m=\u001b[0m\u001b[0;34m'localhost'\u001b[0m\u001b[0;34m,\u001b[0m \u001b[0mport\u001b[0m\u001b[0;34m=\u001b[0m\u001b[0;36m6379\u001b[0m\u001b[0;34m,\u001b[0m \u001b[0mdb\u001b[0m\u001b[0;34m=\u001b[0m\u001b[0;36m0\u001b[0m\u001b[0;34m)\u001b[0m \u001b[0;32mas\u001b[0m \u001b[0mdb\u001b[0m\u001b[0;34m:\u001b[0m\u001b[0;34m\u001b[0m\u001b[0m\n\u001b[0m\u001b[1;32m      2\u001b[0m     \u001b[0;32mpass\u001b[0m\u001b[0;34m\u001b[0m\u001b[0m\n",
      "\u001b[0;31mAttributeError\u001b[0m: __enter__"
     ]
    }
   ],
   "source": [
    "with redis.Connection(host='localhost', port=6379, db=0) as db:\n",
    "    pass"
   ]
  },
  {
   "cell_type": "code",
   "execution_count": 219,
   "metadata": {},
   "outputs": [
    {
     "name": "stdout",
     "output_type": "stream",
     "text": [
      "b'1'\n"
     ]
    }
   ],
   "source": [
    "#Use context manager\n",
    "class RedisClient(redis.Connection):\n",
    "    def __init__(self, *args, **kwargs):\n",
    "        super().__init__(*args, **kwargs)\n",
    "        \n",
    "    def __enter__(self):\n",
    "        return self\n",
    "    \n",
    "    def __exit__(self, type, value, traceback):\n",
    "        self.disconnect()\n",
    "\n",
    "with RedisClient(host='localhost', port=6379, db=0) as db:\n",
    "    db.send_command('set a 1')\n",
    "    response = db.read_response()\n",
    "    db.send_command('get a')\n",
    "    response = db.read_response()\n",
    "    print(response)\n"
   ]
  },
  {
   "cell_type": "markdown",
   "metadata": {},
   "source": [
    "### Iterators"
   ]
  },
  {
   "cell_type": "code",
   "execution_count": 58,
   "metadata": {
    "scrolled": true
   },
   "outputs": [
    {
     "name": "stdout",
     "output_type": "stream",
     "text": [
      "<list_iterator object at 0x7f4eea4d5a58>\n",
      "1\n",
      "2\n",
      "3\n",
      "4\n",
      "5\n",
      "6\n",
      "7\n",
      "8\n",
      "9\n",
      "10\n"
     ]
    }
   ],
   "source": [
    "a = [1,2,3]\n",
    "print(a.__iter__())\n",
    "\n",
    "class Iterator():\n",
    "    def __init__(self, f, t):\n",
    "        self.f = f\n",
    "        self.t = t\n",
    "    def __iter__(self):\n",
    "        return self\n",
    "    def __next__(self):\n",
    "        if self.f > self.t:\n",
    "            raise StopIteration\n",
    "        else:\n",
    "            self.f += 1\n",
    "            return self.f - 1\n",
    "            \n",
    "i = Iterator(1, 10)\n",
    "print(next(i))\n",
    "print(next(i))\n",
    "for ind in i:\n",
    "    print(ind)"
   ]
  },
  {
   "cell_type": "markdown",
   "metadata": {},
   "source": [
    "### Generator"
   ]
  },
  {
   "cell_type": "code",
   "execution_count": 28,
   "metadata": {
    "scrolled": true
   },
   "outputs": [
    {
     "name": "stdout",
     "output_type": "stream",
     "text": [
      "0\n",
      "1\n",
      "1\n",
      "2\n",
      "3\n",
      "5\n",
      "8\n",
      "13\n",
      "21\n",
      "34\n",
      "[0, 1, 2, 3, 4, 5, 6, 7, 8, 9, 2, 3, 4, 5, 6, 7, 8, 9, 10, 4, 5, 6, 7, 8, 9, 10, 11, 6, 7, 8, 9, 10, 11, 12, 8, 9, 10, 11, 12, 13, 10, 11, 12, 13, 14, 12, 13, 14, 15, 14, 15, 16, 16, 17, 18]\n"
     ]
    }
   ],
   "source": [
    "def gen_fib(n):\n",
    "    a, b = 0, 1\n",
    "    for i in range(n):\n",
    "        yield a\n",
    "        a, b = b, a + b\n",
    "        \n",
    "for i in gen_fib(10):\n",
    "    print(i)\n",
    "\n",
    "fib = (x + y for y in range(10) for x in range(y, 10))\n",
    "print(list(fib))"
   ]
  },
  {
   "cell_type": "markdown",
   "metadata": {
    "collapsed": true
   },
   "source": [
    "### Coroutine\n",
    "#### yield"
   ]
  },
  {
   "cell_type": "code",
   "execution_count": 71,
   "metadata": {
    "collapsed": true
   },
   "outputs": [],
   "source": [
    "def compute():\n",
    "    x = yield\n",
    "    print('after yield 1 {}'.format(x))\n",
    "    while True:\n",
    "        x = (yield x)\n",
    "        print('after yield 2 {}'.format(x))\n",
    "        x = 0"
   ]
  },
  {
   "cell_type": "code",
   "execution_count": 72,
   "metadata": {},
   "outputs": [
    {
     "name": "stdout",
     "output_type": "stream",
     "text": [
      "send None\n",
      "send 10\n",
      "after yield 1 10\n",
      "next\n",
      "after yield 2 None\n",
      "0\n",
      "next\n",
      "after yield 2 None\n",
      "0\n"
     ]
    }
   ],
   "source": [
    "c = compute()\n",
    "print('send None')\n",
    "c.send(None)\n",
    "print('send 10')\n",
    "c.send(10)\n",
    "print('next')\n",
    "print(next(c))\n",
    "print('next')\n",
    "print(next(c))\n"
   ]
  },
  {
   "cell_type": "markdown",
   "metadata": {},
   "source": [
    "#### Consumer and Producer"
   ]
  },
  {
   "cell_type": "code",
   "execution_count": 73,
   "metadata": {},
   "outputs": [
    {
     "name": "stdout",
     "output_type": "stream",
     "text": [
      "in consumer\n",
      "in while\n",
      "我拿到了5!\n",
      "in while\n",
      "True\n",
      "我拿到了4!\n",
      "in while\n",
      "True\n",
      "我拿到了3!\n",
      "in while\n",
      "False\n",
      "我拿到了2!\n",
      "in while\n",
      "False\n",
      "我拿到了1!\n",
      "in while\n",
      "False\n"
     ]
    }
   ],
   "source": [
    "def consumer():\n",
    "    print('in consumer')\n",
    "    status = True\n",
    "    while True:\n",
    "        print('in while')\n",
    "        n = yield status\n",
    "        print(\"我拿到了{}!\".format(n))\n",
    "        if n == 3:\n",
    "            status = False\n",
    "\n",
    "def producer(consumer):\n",
    "    n = 5\n",
    "    while n > 0:\n",
    "        # yield给主程序返回消费者的状态\n",
    "        yield consumer.send(n)\n",
    "        n -= 1\n",
    "\n",
    "if __name__ == '__main__':\n",
    "    c = consumer()\n",
    "    c.send(None)\n",
    "    p = producer(c)\n",
    "    for status in p:\n",
    "        print(status)\n"
   ]
  },
  {
   "cell_type": "markdown",
   "metadata": {
    "collapsed": true
   },
   "source": [
    "#### keyword: async and await"
   ]
  },
  {
   "cell_type": "code",
   "execution_count": 244,
   "metadata": {},
   "outputs": [
    {
     "name": "stdout",
     "output_type": "stream",
     "text": [
      "in a\n",
      "1\n"
     ]
    }
   ],
   "source": [
    "async def a():\n",
    "    return 1\n",
    "\n",
    "async def b():\n",
    "    result = await a()\n",
    "    return result\n",
    "\n",
    "def run(coroutine):\n",
    "    try:\n",
    "        coroutine.send(None)\n",
    "    except StopIteration as e:\n",
    "        print(e.value)\n",
    "\n",
    "bb = b()\n",
    "run(bb)"
   ]
  },
  {
   "cell_type": "markdown",
   "metadata": {},
   "source": [
    "#### Event loop"
   ]
  },
  {
   "cell_type": "code",
   "execution_count": 257,
   "metadata": {},
   "outputs": [
    {
     "name": "stdout",
     "output_type": "stream",
     "text": [
      "Before sleep\n",
      "Before sleep\n",
      "Before sleep\n",
      "Before sleep\n",
      "After sleep\n",
      "After sleep\n",
      "After sleep\n",
      "After sleep\n"
     ]
    }
   ],
   "source": [
    "import asyncio\n",
    "import time\n",
    "\n",
    "async def async_sleep(sleep_time):\n",
    "    time.sleep(sleep_time)\n",
    "    return \n",
    "    \n",
    "async def hello():\n",
    "    print('Before sleep')\n",
    "    #res = await async_sleep(2)\n",
    "    res = await asyncio.sleep(1)\n",
    "    print('After sleep')\n",
    "\n",
    "loop = asyncio.new_event_loop()\n",
    "tasks = [hello(), hello(), hello(), hello()]\n",
    "loop.run_until_complete(asyncio.wait(tasks))\n",
    "loop.close()"
   ]
  },
  {
   "cell_type": "code",
   "execution_count": 22,
   "metadata": {},
   "outputs": [
    {
     "name": "stdout",
     "output_type": "stream",
     "text": [
      "Time consumed: 9.885335683822632\n"
     ]
    }
   ],
   "source": [
    "import requests\n",
    "import contextlib\n",
    "\n",
    "def send_req(method='POST', **kwargs):\n",
    "    return requests.request(method=method, **kwargs)\n",
    "\n",
    "def request(host='123.57.17.22', port='3000'):\n",
    "    def decorator(func):\n",
    "        def wrapper(*args, **kwargs):\n",
    "            params = func(*args, **kwargs)\n",
    "            params = {key: value for key, value in params.items() if value}\n",
    "            params['url'] = ''.join(['http://', host, ':', port, '/', params.pop('endpoint')])\n",
    "            res = send_req(**params)\n",
    "            return res\n",
    "        return wrapper\n",
    "    return decorator\n",
    "\n",
    "@request()\n",
    "def token(username, password):\n",
    "    return dict(\n",
    "        method='POST',\n",
    "        endpoint='v1/oauth2/token',\n",
    "        data={\n",
    "            'username': username,\n",
    "            'password': password,\n",
    "            'grant_type': 'password',\n",
    "            'client_id': 123,\n",
    "            'client_secret': 123,\n",
    "        }\n",
    "        #headers=None\n",
    "    )\n",
    "\n",
    "@request()\n",
    "def bind_list(access_token):\n",
    "    return dict(\n",
    "        method='GET',\n",
    "        endpoint='v1/devices',\n",
    "        data=None,\n",
    "        headers={'Authorization': access_token}\n",
    "    )\n",
    "\n",
    "@contextlib.contextmanager\n",
    "def get_token():\n",
    "    username = '15501081468'\n",
    "    password = 'houlu8674'\n",
    "    res = token(username, password)\n",
    "    access_token = res.json().get('access_token')\n",
    "    yield access_token\n",
    "\n",
    "def handle(access_token):\n",
    "    #print('Get a request to check the bind list')\n",
    "    device_list = bind_list(access_token)\n",
    "    #print(device_list.json())\n",
    "\n",
    "#with get_token() as access_token:\n",
    "#    for i in range(20):\n",
    "#        handle(access_token)\n",
    "    \n",
    "start_time = time.time()\n",
    "for i in range(100):\n",
    "    with get_token() as access_token:\n",
    "        handle(access_token)\n",
    "\n",
    "end_time = time.time()\n",
    "print('Time consumed: {}'.format(end_time - start_time))"
   ]
  },
  {
   "cell_type": "code",
   "execution_count": 62,
   "metadata": {},
   "outputs": [
    {
     "name": "stdout",
     "output_type": "stream",
     "text": [
      "Time consumed: 8.004586219787598\n"
     ]
    }
   ],
   "source": [
    "#Get token -> get bind_list\n",
    "import aiohttp\n",
    "import asyncio\n",
    "\n",
    "async def fetch(method='POST', **kwargs):\n",
    "    async with aiohttp.ClientSession() as session:\n",
    "        async with session.request(method=method, **kwargs) as resp:\n",
    "            return await resp.json()\n",
    "\n",
    "def request(host='123.57.17.22', port='3000'):\n",
    "    def decorator(func):\n",
    "        async def wrapper(*args, **kwargs):\n",
    "            params = func(*args, **kwargs)\n",
    "            params = {key: value for key, value in params.items() if value}\n",
    "            params['url'] = ''.join(['http://', host, ':', port, '/', params.pop('endpoint')])\n",
    "            res = await fetch(**params)\n",
    "            return res\n",
    "        return wrapper\n",
    "    return decorator\n",
    "\n",
    "@request()\n",
    "def token(username, password):\n",
    "    return dict(\n",
    "        method='POST',\n",
    "        endpoint='v1/oauth2/token',\n",
    "        data={\n",
    "            'username': username,\n",
    "            'password': password,\n",
    "            'grant_type': 'password',\n",
    "            'client_id': 123,\n",
    "            'client_secret': 123,\n",
    "        },\n",
    "        headers=None\n",
    "    )\n",
    "\n",
    "@request()\n",
    "def bind_list(access_token):\n",
    "    return dict(\n",
    "        method='GET',\n",
    "        endpoint='v1/devices',\n",
    "        data=None,\n",
    "        headers={'Authorization': access_token}\n",
    "    )\n",
    "\n",
    "async def handle():\n",
    "    #print('Get a request to check the bind list')\n",
    "    username = '15501081468'\n",
    "    password = 'houlu8674'\n",
    "    res = await token(username, password)\n",
    "    access_token = res.get('access_token')\n",
    "    device_list = await bind_list(access_token)\n",
    "    #print(device_list)\n",
    "\n",
    "start_time = time.time()\n",
    "loop = asyncio.new_event_loop()\n",
    "tasks = [handle() for i in range(100)]\n",
    "loop.run_until_complete(asyncio.wait(tasks))\n",
    "loop.close()\n",
    "end_time = time.time()\n",
    "print('Time consumed: {}'.format(end_time - start_time))\n"
   ]
  }
 ],
 "metadata": {
  "kernelspec": {
   "display_name": "Python 3",
   "language": "python",
   "name": "python3"
  },
  "language_info": {
   "codemirror_mode": {
    "name": "ipython",
    "version": 3
   },
   "file_extension": ".py",
   "mimetype": "text/x-python",
   "name": "python",
   "nbconvert_exporter": "python",
   "pygments_lexer": "ipython3",
   "version": "3.6.3"
  }
 },
 "nbformat": 4,
 "nbformat_minor": 2
}
